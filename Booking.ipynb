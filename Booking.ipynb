{
 "cells": [
  {
   "cell_type": "code",
   "execution_count": 2,
   "metadata": {},
   "outputs": [
    {
     "name": "stdout",
     "output_type": "stream",
     "text": [
      "41360\n"
     ]
    }
   ],
   "source": [
    "#Setting things up\n",
    "import os\n",
    "from selenium import webdriver\n",
    "import time\n",
    "from selenium.webdriver.common.by import By\n",
    "import seaborn as sns\n",
    "import matplotlib.pyplot as plt\n",
    "import pandas as pd\n",
    "\n",
    "os.environ['PATH'] += r\"C:\\Users\\sebas\\Documents\\DataAnalysis\\Selenium\\msedgedriver.exe\"\n",
    "BaseURL = \"https://www.booking.com/index.html?label=gen173nr-1DCAEoggI46AdIM1gEaDOIAQGYATG4ARfIAQzYAQPoAQH4AQKIAgGoAgO4AqGtv5QGwAIB0gIkMTIxZjk4MmUtZGJlYy00NzEzLTllODMtN2NmMWUxMTUxODMw2AIE4AIB&sid=d805f32d41c46379e274b63644a0555c&sb_price_type=total&;changed_currency=1;selected_currency=USD\"\n",
    "worldCities = pd.read_csv(r'C:\\Users\\sebas\\Documents\\DataAnalysis\\Selenium\\worldcities.csv')\n",
    "worldCities = worldCities[worldCities['country'].str.contains(\"China\")==False]\n",
    "worldCities2 = worldCities[worldCities['capital'].str.contains(\"primary\")==True]\n",
    "Place = worldCities.city\n",
    "checkIn=\"2022-06-23\"\n",
    "checkOut=\"2022-06-30\"\n",
    "NOAdults=4\n",
    "numOfRows = (len(worldCities.index))\n",
    "print(numOfRows)\n",
    "mean3 = pd.Series(index=[pd.RangeIndex(stop=numOfRows)],dtype=float)\n",
    "mean4 = pd.Series(index=[pd.RangeIndex(stop=numOfRows)],dtype=float)\n",
    "mean5 = pd.Series(index=[pd.RangeIndex(stop=numOfRows)],dtype=float)\n",
    "stars = pd.Series([mean3,mean4,mean5])\n",
    "flag=0\n",
    "superindex=-1\n"
   ]
  },
  {
   "cell_type": "code",
   "execution_count": 2,
   "metadata": {},
   "outputs": [
    {
     "name": "stderr",
     "output_type": "stream",
     "text": [
      "C:\\Users\\sebas\\AppData\\Local\\Temp\\ipykernel_13124\\3475514643.py:51: FutureWarning: The default dtype for empty Series will be 'object' instead of 'float64' in a future version. Specify a dtype explicitly to silence this warning.\n",
      "  price = pd.Series(index=[pd.RangeIndex(stop=30)])\n",
      "C:\\Users\\sebas\\AppData\\Local\\Temp\\ipykernel_13124\\3475514643.py:51: FutureWarning: The default dtype for empty Series will be 'object' instead of 'float64' in a future version. Specify a dtype explicitly to silence this warning.\n",
      "  price = pd.Series(index=[pd.RangeIndex(stop=30)])\n",
      "C:\\Users\\sebas\\AppData\\Local\\Temp\\ipykernel_13124\\3475514643.py:51: FutureWarning: The default dtype for empty Series will be 'object' instead of 'float64' in a future version. Specify a dtype explicitly to silence this warning.\n",
      "  price = pd.Series(index=[pd.RangeIndex(stop=30)])\n"
     ]
    },
    {
     "ename": "WebDriverException",
     "evalue": "Message: chrome not reachable\n  (Session info: MicrosoftEdge=102.0.1245.39)\nStacktrace:\nBacktrace:\n\tMicrosoft::Applications::Events::EventProperties::unpack [0x00007FF660493732+24578]\n\tMicrosoft::Applications::Events::time_ticks_t::time_ticks_t [0x00007FF6603CE2A2+563666]\n\tOrdinal0 [0x00007FF65FED0E6B+659051]\n\tOrdinal0 [0x00007FF65FEC001A+589850]\n\tOrdinal0 [0x00007FF65FEC09B9+592313]\n\tOrdinal0 [0x00007FF65FEC28AD+600237]\n\tOrdinal0 [0x00007FF65FEBB02F+569391]\n\tOrdinal0 [0x00007FF65FED2361+664417]\n\tOrdinal0 [0x00007FF65FF3B13D+1093949]\n\tOrdinal0 [0x00007FF65FF275C3+1013187]\n\tOrdinal0 [0x00007FF65FEFE4E0+845024]\n\tOrdinal0 [0x00007FF65FEFF8D8+850136]\n\tMicrosoft::Applications::Events::EventProperty::EventProperty [0x00007FF660184EB8+119992]\n\tMicrosoft::Applications::Events::EventProperty::EventProperty [0x00007FF6601709C7+36807]\n\tMicrosoft::Applications::Events::EventProperty::EventProperty [0x00007FF660173B5C+49500]\n\tMicrosoft::Applications::Events::EventProperty::to_string [0x00007FF65FFCF606+20582]\n\tMicrosoft::Applications::Events::time_ticks_t::time_ticks_t [0x00007FF6603D570B+593467]\n\tMicrosoft::Applications::Events::time_ticks_t::time_ticks_t [0x00007FF6603DAC44+615284]\n\tMicrosoft::Applications::Events::time_ticks_t::time_ticks_t [0x00007FF6603DAD9D+615629]\n\tMicrosoft::Applications::Events::time_ticks_t::time_ticks_t [0x00007FF6603E59AE+659678]\n\tBaseThreadInitThunk [0x00007FFC4CF4244D+29]\n\tRtlUserThreadStart [0x00007FFC4E02DF88+40]\n",
     "output_type": "error",
     "traceback": [
      "\u001b[1;31m---------------------------------------------------------------------------\u001b[0m",
      "\u001b[1;31mWebDriverException\u001b[0m                        Traceback (most recent call last)",
      "\u001b[1;32mc:\\Users\\sebas\\Documents\\DataAnalysis\\Selenium\\Booking.ipynb Cell 2'\u001b[0m in \u001b[0;36m<cell line: 7>\u001b[1;34m()\u001b[0m\n\u001b[0;32m     <a href='vscode-notebook-cell:/c%3A/Users/sebas/Documents/DataAnalysis/Selenium/Booking.ipynb#ch0000001?line=71'>72</a>\u001b[0m     time\u001b[39m.\u001b[39msleep(\u001b[39m0.5\u001b[39m)\n\u001b[0;32m     <a href='vscode-notebook-cell:/c%3A/Users/sebas/Documents/DataAnalysis/Selenium/Booking.ipynb#ch0000001?line=72'>73</a>\u001b[0m     driver\u001b[39m.\u001b[39mimplicitly_wait(\u001b[39m5\u001b[39m)\n\u001b[1;32m---> <a href='vscode-notebook-cell:/c%3A/Users/sebas/Documents/DataAnalysis/Selenium/Booking.ipynb#ch0000001?line=73'>74</a>\u001b[0m     driver\u001b[39m.\u001b[39;49mget(BaseURL)\n\u001b[0;32m     <a href='vscode-notebook-cell:/c%3A/Users/sebas/Documents/DataAnalysis/Selenium/Booking.ipynb#ch0000001?line=74'>75</a>\u001b[0m driver\u001b[39m.\u001b[39mclose()\n",
      "File \u001b[1;32mc:\\Users\\sebas\\AppData\\Local\\Programs\\Python\\Python310\\lib\\site-packages\\selenium\\webdriver\\remote\\webdriver.py:437\u001b[0m, in \u001b[0;36mWebDriver.get\u001b[1;34m(self, url)\u001b[0m\n\u001b[0;32m    433\u001b[0m \u001b[39mdef\u001b[39;00m \u001b[39mget\u001b[39m(\u001b[39mself\u001b[39m, url: \u001b[39mstr\u001b[39m) \u001b[39m-\u001b[39m\u001b[39m>\u001b[39m \u001b[39mNone\u001b[39;00m:\n\u001b[0;32m    434\u001b[0m     \u001b[39m\"\"\"\u001b[39;00m\n\u001b[0;32m    435\u001b[0m \u001b[39m    Loads a web page in the current browser session.\u001b[39;00m\n\u001b[0;32m    436\u001b[0m \u001b[39m    \"\"\"\u001b[39;00m\n\u001b[1;32m--> 437\u001b[0m     \u001b[39mself\u001b[39;49m\u001b[39m.\u001b[39;49mexecute(Command\u001b[39m.\u001b[39;49mGET, {\u001b[39m'\u001b[39;49m\u001b[39murl\u001b[39;49m\u001b[39m'\u001b[39;49m: url})\n",
      "File \u001b[1;32mc:\\Users\\sebas\\AppData\\Local\\Programs\\Python\\Python310\\lib\\site-packages\\selenium\\webdriver\\remote\\webdriver.py:425\u001b[0m, in \u001b[0;36mWebDriver.execute\u001b[1;34m(self, driver_command, params)\u001b[0m\n\u001b[0;32m    423\u001b[0m response \u001b[39m=\u001b[39m \u001b[39mself\u001b[39m\u001b[39m.\u001b[39mcommand_executor\u001b[39m.\u001b[39mexecute(driver_command, params)\n\u001b[0;32m    424\u001b[0m \u001b[39mif\u001b[39;00m response:\n\u001b[1;32m--> 425\u001b[0m     \u001b[39mself\u001b[39;49m\u001b[39m.\u001b[39;49merror_handler\u001b[39m.\u001b[39;49mcheck_response(response)\n\u001b[0;32m    426\u001b[0m     response[\u001b[39m'\u001b[39m\u001b[39mvalue\u001b[39m\u001b[39m'\u001b[39m] \u001b[39m=\u001b[39m \u001b[39mself\u001b[39m\u001b[39m.\u001b[39m_unwrap_value(\n\u001b[0;32m    427\u001b[0m         response\u001b[39m.\u001b[39mget(\u001b[39m'\u001b[39m\u001b[39mvalue\u001b[39m\u001b[39m'\u001b[39m, \u001b[39mNone\u001b[39;00m))\n\u001b[0;32m    428\u001b[0m     \u001b[39mreturn\u001b[39;00m response\n",
      "File \u001b[1;32mc:\\Users\\sebas\\AppData\\Local\\Programs\\Python\\Python310\\lib\\site-packages\\selenium\\webdriver\\remote\\errorhandler.py:247\u001b[0m, in \u001b[0;36mErrorHandler.check_response\u001b[1;34m(self, response)\u001b[0m\n\u001b[0;32m    245\u001b[0m         alert_text \u001b[39m=\u001b[39m value[\u001b[39m'\u001b[39m\u001b[39malert\u001b[39m\u001b[39m'\u001b[39m]\u001b[39m.\u001b[39mget(\u001b[39m'\u001b[39m\u001b[39mtext\u001b[39m\u001b[39m'\u001b[39m)\n\u001b[0;32m    246\u001b[0m     \u001b[39mraise\u001b[39;00m exception_class(message, screen, stacktrace, alert_text)  \u001b[39m# type: ignore[call-arg]  # mypy is not smart enough here\u001b[39;00m\n\u001b[1;32m--> 247\u001b[0m \u001b[39mraise\u001b[39;00m exception_class(message, screen, stacktrace)\n",
      "\u001b[1;31mWebDriverException\u001b[0m: Message: chrome not reachable\n  (Session info: MicrosoftEdge=102.0.1245.39)\nStacktrace:\nBacktrace:\n\tMicrosoft::Applications::Events::EventProperties::unpack [0x00007FF660493732+24578]\n\tMicrosoft::Applications::Events::time_ticks_t::time_ticks_t [0x00007FF6603CE2A2+563666]\n\tOrdinal0 [0x00007FF65FED0E6B+659051]\n\tOrdinal0 [0x00007FF65FEC001A+589850]\n\tOrdinal0 [0x00007FF65FEC09B9+592313]\n\tOrdinal0 [0x00007FF65FEC28AD+600237]\n\tOrdinal0 [0x00007FF65FEBB02F+569391]\n\tOrdinal0 [0x00007FF65FED2361+664417]\n\tOrdinal0 [0x00007FF65FF3B13D+1093949]\n\tOrdinal0 [0x00007FF65FF275C3+1013187]\n\tOrdinal0 [0x00007FF65FEFE4E0+845024]\n\tOrdinal0 [0x00007FF65FEFF8D8+850136]\n\tMicrosoft::Applications::Events::EventProperty::EventProperty [0x00007FF660184EB8+119992]\n\tMicrosoft::Applications::Events::EventProperty::EventProperty [0x00007FF6601709C7+36807]\n\tMicrosoft::Applications::Events::EventProperty::EventProperty [0x00007FF660173B5C+49500]\n\tMicrosoft::Applications::Events::EventProperty::to_string [0x00007FF65FFCF606+20582]\n\tMicrosoft::Applications::Events::time_ticks_t::time_ticks_t [0x00007FF6603D570B+593467]\n\tMicrosoft::Applications::Events::time_ticks_t::time_ticks_t [0x00007FF6603DAC44+615284]\n\tMicrosoft::Applications::Events::time_ticks_t::time_ticks_t [0x00007FF6603DAD9D+615629]\n\tMicrosoft::Applications::Events::time_ticks_t::time_ticks_t [0x00007FF6603E59AE+659678]\n\tBaseThreadInitThunk [0x00007FFC4CF4244D+29]\n\tRtlUserThreadStart [0x00007FFC4E02DF88+40]\n"
     ]
    }
   ],
   "source": [
    "#Playing with the data\n",
    "driver = webdriver.Edge()\n",
    "driver.get(BaseURL)\n",
    "driver.implicitly_wait(15)\n",
    "driver.maximize_window()\n",
    "superindex=-1\n",
    "for places in Place:\n",
    "    time.sleep(1)\n",
    "    superindex+=1\n",
    "    searchBar = driver.find_element(by=By.ID,value=\"ss\")\n",
    "    searchBar.clear()\n",
    "    searchBar.send_keys(places)\n",
    "    if flag == 0:\n",
    "        try:\n",
    "            driver.find_element(by=By.CSS_SELECTOR,value='li[data-i=\"0\"]').click()\n",
    "            driver.find_element(by=By.CSS_SELECTOR,value=f'td[data-date=\"{checkIn}\"]').click()\n",
    "            driver.find_element(by=By.CSS_SELECTOR,value=f'td[data-date=\"{checkOut}\"]').click()\n",
    "            driver.find_element(by=By.CLASS_NAME,value=\"xp__guests__count\").click()\n",
    "            adults = int(driver.find_element(by=By.ID,value='group_adults').get_attribute('value'))\n",
    "            adults\n",
    "            if (adults>NOAdults):\n",
    "                while True:\n",
    "                    driver.find_element(by=By.CSS_SELECTOR,value='button[aria-label=\"Decrease number of Adults\"]').click()\n",
    "                    adults = int(driver.find_element(by=By.ID,value='group_adults').get_attribute('value'))\n",
    "                    if (adults == NOAdults):\n",
    "                        break\n",
    "            else:\n",
    "                while True:\n",
    "                    driver.find_element(by=By.CSS_SELECTOR,value='button[aria-label=\"Increase number of Adults\"]').click()\n",
    "                    adults = int(driver.find_element(by=By.ID,value='group_adults').get_attribute('value'))\n",
    "                    if (adults == NOAdults):\n",
    "                        break\n",
    "            flag=1\n",
    "        except:\n",
    "            driver.get(BaseURL)\n",
    "            break\n",
    "    time.sleep(2)\n",
    "    try:\n",
    "        driver.find_element(by=By.CLASS_NAME,value=\"sb-searchbox__button\").click()\n",
    "    except:\n",
    "        driver.get(BaseURL)\n",
    "        break\n",
    "    #Filters the data by star number and then captures it\n",
    "    starsIndex=2\n",
    "    time.sleep(2)\n",
    "\n",
    "    for i in stars:\n",
    "        meanFlag=0\n",
    "        driver.implicitly_wait(5)\n",
    "        starsIndex+=1\n",
    "        price = pd.Series(index=[pd.RangeIndex(stop=30)])\n",
    "        try:\n",
    "            driver.find_element(by=By.XPATH, value=f\"//div[contains(text(),'{starsIndex} stars')]\").click()\n",
    "            time.sleep(2)\n",
    "            for u in (pd.RangeIndex(start=1,stop=10)):   #Here the number of hotels to search\n",
    "                driver.implicitly_wait(5)\n",
    "                price.iloc[u]=(driver.find_element(by=By.XPATH, value=f'(//span[contains(text(),\"$\")])[{u}]').text)\n",
    "            #Bit of data cleaning to calculate the mean of the hotels\n",
    "            price=price.dropna()\n",
    "            price = price[price.str.contains(\"Credits\")==False]\n",
    "            price = price.astype('str').str.extractall('(\\d+)').unstack().fillna('').sum(axis=1).astype(int)\n",
    "            i[superindex]=price.mean()\n",
    "            meanFlag=1\n",
    "            #uncheck the stars box\n",
    "            \n",
    "            driver.find_element(by=By.XPATH, value=f\"//div[contains(text(),'{starsIndex} stars')]\").click()\n",
    "            time.sleep(2)\n",
    "        except:\n",
    "            if meanFlag==1:\n",
    "                i[superindex]=0\n",
    "            break\n",
    "    time.sleep(0.5)\n",
    "    driver.implicitly_wait(5)\n",
    "    driver.get(BaseURL)\n",
    "driver.close()\n",
    "\n",
    "\n"
   ]
  },
  {
   "cell_type": "code",
   "execution_count": null,
   "metadata": {},
   "outputs": [],
   "source": [
    "worldCities['mean3'] = mean3.values\n",
    "worldCities['mean4'] = mean4.values\n",
    "worldCities['mean5'] = mean5.values\n",
    "worldCities.to_csv(\"wc\")\n",
    "\n"
   ]
  },
  {
   "cell_type": "code",
   "execution_count": null,
   "metadata": {},
   "outputs": [],
   "source": [
    "worldCities=pd.read_csv(r'C:\\Users\\sebas\\Documents\\DataAnalysis\\Selenium\\wc.csv')\n",
    "cheapHotels = pd.DataFrame(worldCities.sort_values('mean3',ascending=True).head(10))\n",
    "plt.figure(figsize=(20,5))\n",
    "plt.title(\"Price in dolars for 3 stars Hotels\")\n",
    "sns.barplot(x=cheapHotels.country,y=cheapHotels.mean3)\n",
    "plt.ylabel(\"Price\")\n",
    "cheapHotels\n"
   ]
  },
  {
   "cell_type": "code",
   "execution_count": null,
   "metadata": {},
   "outputs": [
    {
     "data": {
      "text/plain": [
       "array(['Japan', 'Indonesia', 'India', 'Philippines', 'Brazil',\n",
       "       'South Korea', 'Mexico', 'Egypt', 'United States', 'Russia',\n",
       "       'Thailand', 'Bangladesh', 'Argentina', 'Nigeria', 'Turkey',\n",
       "       'Pakistan', 'Congo (Kinshasa)', 'Vietnam', 'Iran',\n",
       "       'United Kingdom', 'France', 'Peru', 'Angola', 'Malaysia',\n",
       "       'Colombia', 'Tanzania', 'Hong Kong', 'Chile', 'Saudi Arabia',\n",
       "       'Iraq', 'Sudan', 'Spain', 'Kenya', 'Myanmar', 'Canada',\n",
       "       'Singapore', \"Côte d'Ivoire\", 'Australia', 'South Africa',\n",
       "       'Morocco', 'Afghanistan', 'Jordan', 'Germany', 'Algeria',\n",
       "       'Bolivia', 'Ethiopia', 'Kuwait', 'Ukraine', 'Yemen', 'Guatemala',\n",
       "       'Italy', 'North Korea', 'Taiwan', 'Ecuador', 'Madagascar',\n",
       "       'Dominican Republic', 'United Arab Emirates', 'Uzbekistan',\n",
       "       'Burkina Faso', 'Cameroon', 'Ghana', 'Azerbaijan', 'Zimbabwe',\n",
       "       'Cuba', 'Cambodia', 'Somalia', 'Mali', 'Belarus', 'Venezuela',\n",
       "       'Syria', 'Kazakhstan', 'Austria', 'Malawi', 'Romania',\n",
       "       'Congo (Brazzaville)', 'Poland', 'Belgium', 'Zambia', 'Hungary',\n",
       "       'Guinea', 'Uganda', 'Oman', 'Mongolia', 'Serbia', 'New Zealand',\n",
       "       'Czechia', 'Uruguay', 'Bulgaria', 'Honduras', 'Mozambique',\n",
       "       'Qatar', 'Senegal', 'Rwanda', 'Libya', 'Georgia', 'Chad',\n",
       "       'Denmark', 'Armenia', 'Mauritania', 'Kyrgyzstan', 'Tunisia',\n",
       "       'Nepal', 'Niger', 'Nicaragua', 'Liberia', 'Haiti', 'Sweden',\n",
       "       'Eritrea', 'Sierra Leone', 'Laos', 'Israel',\n",
       "       'Central African Republic', 'Panama', 'Netherlands', 'Togo',\n",
       "       'Gabon', 'Croatia', 'Tajikistan', 'Benin', 'Sri Lanka', 'Norway',\n",
       "       'Greece', 'Burundi', 'Finland', 'Macedonia', 'Moldova', 'Latvia',\n",
       "       'Jamaica', 'Lithuania', 'El Salvador', 'Djibouti', 'Ireland',\n",
       "       'Paraguay', 'Portugal', 'Slovakia', 'Estonia', 'Lebanon',\n",
       "       'Albania', 'Guinea-Bissau', 'South Sudan', 'Lesotho', 'Cyprus',\n",
       "       'Namibia', 'Papua New Guinea', 'Costa Rica', 'Slovenia',\n",
       "       'Bosnia And Herzegovina', 'The Bahamas', 'Martinique', 'Botswana',\n",
       "       'Suriname', 'Timor-Leste', 'Maldives', 'Guyana', 'Gibraltar',\n",
       "       'Reunion', 'Equatorial Guinea', 'Montenegro', 'Bahrain',\n",
       "       'Mauritius', 'Curaçao', 'Switzerland', 'French Polynesia',\n",
       "       'Luxembourg', 'Iceland', 'Cabo Verde', 'Barbados', 'Comoros',\n",
       "       'Bhutan', 'Swaziland', 'New Caledonia', 'Solomon Islands', 'Fiji',\n",
       "       'Saint Lucia', 'French Guiana', 'Sao Tome And Principe', 'Vanuatu',\n",
       "       'Bermuda', 'Brunei', 'Monaco', 'Trinidad And Tobago', 'Samoa',\n",
       "       'Kiribati', 'Aruba', 'Jersey', 'The Gambia', 'Mayotte',\n",
       "       'Marshall Islands', 'Isle Of Man', 'Cayman Islands', 'Seychelles',\n",
       "       'Saint Vincent And The Grenadines', 'Andorra',\n",
       "       'Antigua And Barbuda', 'Tonga', 'Turkmenistan', 'Greenland',\n",
       "       'Belize', 'Dominica', 'Saint Kitts And Nevis', 'Faroe Islands',\n",
       "       'American Samoa', 'Malta', 'Gaza Strip',\n",
       "       'Turks And Caicos Islands', 'Federated States of Micronesia',\n",
       "       'Tuvalu', 'Liechtenstein', 'Cook Islands', 'Grenada', 'San Marino',\n",
       "       'West Bank', 'Northern Mariana Islands',\n",
       "       'Falkland Islands (Islas Malvinas)', 'Vatican City', 'Niue',\n",
       "       'Guadeloupe', 'Guam', 'Saint Martin',\n",
       "       'Saint Helena, Ascension, And Tristan Da Cunha', 'Montserrat',\n",
       "       'Sint Maarten', 'Nauru', 'Kosovo', 'Saint Barthelemy',\n",
       "       'British Virgin Islands', 'Palau', 'Saint Pierre And Miquelon',\n",
       "       'Anguilla', 'Wallis And Futuna', 'Norfolk Island', 'Svalbard',\n",
       "       'Pitcairn Islands', 'Christmas Island',\n",
       "       'South Georgia And South Sandwich Islands', 'Macau', 'Puerto Rico',\n",
       "       'U.S. Virgin Islands'], dtype=object)"
      ]
     },
     "execution_count": 4,
     "metadata": {},
     "output_type": "execute_result"
    }
   ],
   "source": []
  }
 ],
 "metadata": {
  "interpreter": {
   "hash": "3ef525aed409cc5a13783047c8d4d090b051bbc20387ad523d849e44a70e3fe1"
  },
  "kernelspec": {
   "display_name": "Python 3.10.4 64-bit",
   "language": "python",
   "name": "python3"
  },
  "language_info": {
   "codemirror_mode": {
    "name": "ipython",
    "version": 3
   },
   "file_extension": ".py",
   "mimetype": "text/x-python",
   "name": "python",
   "nbconvert_exporter": "python",
   "pygments_lexer": "ipython3",
   "version": "3.10.5"
  },
  "orig_nbformat": 4
 },
 "nbformat": 4,
 "nbformat_minor": 2
}
